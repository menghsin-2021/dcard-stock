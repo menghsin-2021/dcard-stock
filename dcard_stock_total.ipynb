{
 "cells": [
  {
   "cell_type": "code",
   "execution_count": 14,
   "metadata": {},
   "outputs": [],
   "source": [
    "import pandas as pd\n",
    "import requests\n",
    "import datetime"
   ]
  },
  {
   "cell_type": "code",
   "execution_count": 27,
   "metadata": {},
   "outputs": [
    {
     "ename": "SystemExit",
     "evalue": "",
     "output_type": "error",
     "traceback": [
      "An exception has occurred, use %tb to see the full traceback.\n",
      "\u001b[1;31mSystemExit\u001b[0m\n"
     ]
    },
    {
     "name": "stderr",
     "output_type": "stream",
     "text": [
      "D:\\Users\\Meng-Hsin\\anaconda3\\lib\\site-packages\\IPython\\core\\interactiveshell.py:3426: UserWarning: To exit: use 'exit', 'quit', or Ctrl-D.\n",
      "  warn(\"To exit: use 'exit', 'quit', or Ctrl-D.\", stacklevel=1)\n"
     ]
    }
   ],
   "source": [
    "# # 建立空 DataFrame\n",
    "# data = pd.DataFrame(columns=['ID', 'title', 'createdAt', 'updatedAt', 'commentCount',\n",
    "#              'forumName', 'forumAlias', 'likeCount', 'reactions', 'topics'])\n",
    "\n",
    "# 股版依時間順序前100則文章url\n",
    "url = 'https://www.dcard.tw/service/api/v2/forums/stock/posts?limit=100'\n",
    "\n",
    "        \n",
    "# 輸入 json 資料中一筆字典並建立 dataFrame\n",
    "def dj_to_df(dj):\n",
    "    df = pd.DataFrame(data= \n",
    "       [{'articleID': dj['id'],                          # 編號\n",
    "        'title': dj['title'],                     # 標題\n",
    "        'createdAt': pd.Timestamp(dj['createdAt'], tz='Asia/Taipei'),   # 發布時間\n",
    "        'updatedAt': pd.Timestamp(dj['updatedAt'], tz='Asia/Taipei'),   # 更新時間\n",
    "        'commentCount': dj['commentCount'],       # 留言數\n",
    "        'forumName': dj['forumName'],             # 論壇分類(中文)\n",
    "        'forumAlias': dj['forumAlias'],           # 論壇分類(英文)\n",
    "        'likeCount': dj['likeCount'],             # 心情數量\n",
    "        'topics': \"/\".join(dj['topics'])}],                 # 標籤\n",
    "    columns=['articleID', 'title', 'createdAt', 'updatedAt', 'commentCount',\n",
    "             'forumName', 'forumAlias', 'likeCount', 'topics'],\n",
    "    index=None)\n",
    "    return df\n",
    "\n",
    "# 透過request套件抓下網址資料\n",
    "def crawl(url):\n",
    "    df = pd.DataFrame(columns=['articleID', 'title', 'createdAt', 'updatedAt', 'commentCount',\n",
    "             'forumName', 'forumAlias', 'likeCount', 'topics'])\n",
    "    r = requests.get(url)\n",
    "    if r.status_code != requests.codes.ok:\n",
    "        raise SystemExit # 結束程式\n",
    "        \n",
    "    for i in range(len(r.json())):\n",
    "        dj = r.json()[i]    \n",
    "        df = df.append(dj_to_df(dj), ignore_index=True)\n",
    "    \n",
    "    return df\n",
    "\n",
    "data = crawl(url)\n",
    "\n",
    "# for i in range(1):\n",
    "#     try:\n",
    "#         last = str(int(data.tail(1).ID)) # 找出爬出資料的最後一筆ID\n",
    "#         after_url = 'https://www.dcard.tw/service/api/v2/forums/stock/posts?limit=100&before=' + last\n",
    "#         data = data.append(crawl(after_url), ignore_index=True)\n",
    "#     except:\n",
    "#         print ('finish')\n",
    "\n",
    "\n",
    "data"
   ]
  },
  {
   "cell_type": "code",
   "execution_count": 41,
   "metadata": {},
   "outputs": [
    {
     "name": "stdout",
     "output_type": "stream",
     "text": [
      "https://www.dcard.tw/service/api/v2/forums/stock/posts?limit=100&before=236646311\n"
     ]
    }
   ],
   "source": [
    "# 將資料存到桌面\n",
    "# df.to_excel('C:/Users/TLYu0419/Desktop/Dcard.xlsx')"
   ]
  },
  {
   "cell_type": "code",
   "execution_count": 42,
   "metadata": {},
   "outputs": [
    {
     "data": {
      "text/plain": [
       "'{\"data\":[{\"_id\":\"611d0440ca7e41590532b6f5\",\"ip\":\"109.236.47.37\",\"anonymityLevel\":\"elite\",\"asn\":\"AS35047\",\"city\":\"Kamez\",\"country\":\"AL\",\"created_at\":\"2021-08-18T12:59:44.635Z\",\"google\":false,\"isp\":\"Abissnet PPPoE\",\"lastChecked\":1629291584,\"latency\":186,\"org\":\"\",\"port\":\"5678\",\"protocols\":[\"socks4\"],\"region\":null,\"responseTime\":36,\"speed\":null,\"updated_at\":\"2021-08-18T12:59:44.635Z\",\"workingPercent\":null},{\"_id\":\"611d0440ca7e41590532b707\",\"ip\":\"182.253.108.162\",\"anonymityLevel\":\"elite\",\"asn\":\"AS17451\",\"city\":\"Pemalang\",\"country\":\"ID\",\"created_at\":\"2021-08-18T12:59:44.679Z\",\"google\":false,\"isp\":\"BIZNET\",\"lastChecked\":1629291584,\"latency\":219,\"org\":\"\",\"port\":\"5678\",\"protocols\":[\"socks4\"],\"region\":null,\"responseTime\":34,\"speed\":441,\"updated_at\":\"2021-08-18T12:59:44.679Z\",\"workingPercent\":null},{\"_id\":\"611d0440ca7e41590532b6eb\",\"ip\":\"116.90.234.238\",\"anonymityLevel\":\"elite\",\"asn\":\"AS24550\",\"city\":\"Kathmandu\",\"country\":\"NP\",\"created_at\":\"2021-08-18T12:59:44.625Z\",\"google\":false,\"isp\":\"WEBSURFER\",\"lastChecked\":1629291584,\"latency\":267,\"org\":\"Websurfer Nepal Communication System Pvt. Ltd\",\"port\":\"5678\",\"protocols\":[\"socks4\"],\"region\":null,\"responseTime\":33,\"speed\":null,\"updated_at\":\"2021-08-18T12:59:44.625Z\",\"workingPercent\":null},{\"_id\":\"611d043fca7e41590532b691\",\"ip\":\"117.2.161.85\",\"anonymityLevel\":\"elite\",\"asn\":\"AS7552\",\"city\":\"Hanoi\",\"country\":\"VN\",\"created_at\":\"2021-08-18T12:59:43.456Z\",\"google\":false,\"isp\":\"Viettel Corporation\",\"lastChecked\":1629291583,\"latency\":167,\"org\":\"\",\"port\":\"5678\",\"protocols\":[\"socks4\"],\"region\":null,\"responseTime\":34,\"speed\":null,\"updated_at\":\"2021-08-18T12:59:43.456Z\",\"workingPercent\":null},{\"_id\":\"611d043fca7e41590532b69b\",\"ip\":\"175.139.216.25\",\"anonymityLevel\":\"elite\",\"asn\":\"AS4788\",\"city\":\"Johor Bahru\",\"country\":\"MY\",\"created_at\":\"2021-08-18T12:59:43.487Z\",\"google\":false,\"isp\":\"Tmnet, Telekom Malaysia Bhd.\",\"lastChecked\":1629291583,\"latency\":208,\"org\":\"Adsl Streamyx\",\"port\":\"5678\",\"protocols\":[\"socks4\"],\"region\":null,\"responseTime\":34,\"speed\":5001,\"updated_at\":\"2021-08-18T12:59:43.487Z\",\"workingPercent\":null},{\"_id\":\"611d043fca7e41590532b6cf\",\"ip\":\"105.234.148.5\",\"anonymityLevel\":\"elite\",\"asn\":\"AS37440\",\"city\":\"Blantyre\",\"country\":\"MW\",\"created_at\":\"2021-08-18T12:59:43.797Z\",\"google\":false,\"isp\":\"Airtel Malawi\",\"lastChecked\":1629291583,\"latency\":375,\"org\":\"\",\"port\":\"5678\",\"protocols\":[\"socks4\"],\"region\":null,\"responseTime\":34,\"speed\":null,\"updated_at\":\"2021-08-18T12:59:43.797Z\",\"workingPercent\":null},{\"_id\":\"611d043eca7e41590532b65e\",\"ip\":\"106.58.218.185\",\"anonymityLevel\":\"elite\",\"asn\":\"AS4134\",\"city\":\"Kunming\",\"country\":\"CN\",\"created_at\":\"2021-08-18T12:59:42.234Z\",\"google\":false,\"isp\":\"Chinanet\",\"lastChecked\":1629291582,\"latency\":185,\"org\":\"Chinanet YN\",\"port\":\"5678\",\"protocols\":[\"socks4\"],\"region\":null,\"responseTime\":34,\"speed\":5001,\"updated_at\":\"2021-08-18T12:59:42.234Z\",\"workingPercent\":null},{\"_id\":\"60d97fa1ce5b3bb0e9ffea6b\",\"ip\":\"190.90.18.162\",\"port\":\"999\",\"anonymityLevel\":\"transparent\",\"asn\":\"AS18678\",\"city\":\"Bello\",\"country\":\"CO\",\"created_at\":\"2021-06-28T07:52:01.060Z\",\"google\":false,\"isp\":\"Internexa S.a. E.S.P\",\"lastChecked\":1629291582,\"latency\":145,\"org\":\"Internexa S.a. E.S.P\",\"protocols\":[\"http\"],\"region\":null,\"responseTime\":44,\"speed\":null,\"updated_at\":\"2021-08-18T12:59:42.666Z\",\"workingPercent\":null,\"upTime\":99.91438356164383,\"upTimeSuccessCount\":1167,\"upTimeTryCount\":1168},{\"_id\":\"611d043eca7e41590532b67b\",\"ip\":\"117.222.59.178\",\"anonymityLevel\":\"elite\",\"asn\":\"AS9829\",\"city\":\"Surendranagar\",\"country\":\"IN\",\"created_at\":\"2021-08-18T12:59:42.701Z\",\"google\":false,\"isp\":\"BSNL Internet\",\"lastChecked\":1629291582,\"latency\":292,\"org\":\"\",\"port\":\"5678\",\"protocols\":[\"socks4\"],\"region\":null,\"responseTime\":34,\"speed\":5001,\"updated_at\":\"2021-08-18T12:59:42.701Z\",\"workingPercent\":null},{\"_id\":\"611d043cca7e41590532b623\",\"ip\":\"5.188.154.149\",\"anonymityLevel\":\"transparent\",\"asn\":\"AS200590\",\"city\":\"Almaty\",\"country\":\"KZ\",\"created_at\":\"2021-08-18T12:59:40.275Z\",\"google\":false,\"isp\":\"NLS\",\"lastChecked\":1629291580,\"latency\":264,\"org\":\"\",\"port\":\"8080\",\"protocols\":[\"http\"],\"region\":null,\"responseTime\":34,\"speed\":null,\"updated_at\":\"2021-08-18T12:59:40.275Z\",\"workingPercent\":null},{\"_id\":\"611d0439ca7e41590532b5f0\",\"ip\":\"175.100.5.156\",\"anonymityLevel\":\"elite\",\"asn\":\"AS38623\",\"city\":\"Phnom Penh\",\"country\":\"KH\",\"created_at\":\"2021-08-18T12:59:37.848Z\",\"google\":false,\"isp\":\"VIETTEL (CAMBODIA) PTE., LTD\",\"lastChecked\":1629291577,\"latency\":181,\"org\":\"Viettel (cambodia) Pte., Ltd.\",\"port\":\"5678\",\"protocols\":[\"socks4\"],\"region\":null,\"responseTime\":33,\"speed\":372,\"updated_at\":\"2021-08-18T12:59:37.848Z\",\"workingPercent\":null},{\"_id\":\"611d0439ca7e41590532b5e1\",\"ip\":\"109.200.155.194\",\"anonymityLevel\":\"transparent\",\"asn\":\"AS6789\",\"city\":\"Simferopol\",\"country\":\"UA\",\"created_at\":\"2021-08-18T12:59:37.657Z\",\"google\":false,\"isp\":\"Crelcom LLC\",\"lastChecked\":1629291577,\"latency\":227,\"org\":\"Crelcom LLC\",\"port\":\"8080\",\"protocols\":[\"http\"],\"region\":null,\"responseTime\":37,\"speed\":null,\"updated_at\":\"2021-08-18T12:59:37.657Z\",\"workingPercent\":null},{\"_id\":\"611d0438ca7e41590532b5b4\",\"ip\":\"109.167.4.59\",\"anonymityLevel\":\"elite\",\"asn\":\"AS29119\",\"city\":\"Vilanant\",\"country\":\"ES\",\"created_at\":\"2021-08-18T12:59:36.605Z\",\"google\":false,\"isp\":\"Airenetworks\",\"lastChecked\":1629291576,\"latency\":null,\"org\":\"Aire Networks Del Mediterraneo SL Unipersonal\",\"port\":\"5678\",\"protocols\":[\"socks4\"],\"region\":null,\"responseTime\":39,\"speed\":5003,\"updated_at\":\"2021-08-18T12:59:36.605Z\",\"workingPercent\":null},{\"_id\":\"611d0438ca7e41590532b5cd\",\"ip\":\"175.144.198.226\",\"anonymityLevel\":\"elite\",\"asn\":\"AS4788\",\"city\":\"Lunas\",\"country\":\"MY\",\"created_at\":\"2021-08-18T12:59:36.844Z\",\"google\":false,\"isp\":\"Tmnet, Telekom Malaysia Bhd.\",\"lastChecked\":1629291576,\"latency\":172,\"org\":\"Adsl Streamyx\",\"port\":\"31694\",\"protocols\":[\"socks4\"],\"region\":null,\"responseTime\":35,\"speed\":null,\"updated_at\":\"2021-08-18T12:59:36.844Z\",\"workingPercent\":null},{\"_id\":\"611d0438ca7e41590532b5bf\",\"ip\":\"117.202.20.67\",\"anonymityLevel\":\"elite\",\"asn\":\"AS9829\",\"city\":\"Nagpur\",\"country\":\"IN\",\"created_at\":\"2021-08-18T12:59:36.717Z\",\"google\":false,\"isp\":\"BSNL Internet\",\"lastChecked\":1629291576,\"latency\":274,\"org\":\"NIB\",\"port\":\"1088\",\"protocols\":[\"socks4\"],\"region\":null,\"responseTime\":34,\"speed\":null,\"updated_at\":\"2021-08-18T12:59:36.717Z\",\"workingPercent\":null},{\"_id\":\"611d0438ca7e41590532b5a3\",\"ip\":\"175.158.57.96\",\"anonymityLevel\":\"elite\",\"asn\":\"AS135478\",\"city\":\"Jakarta\",\"country\":\"ID\",\"created_at\":\"2021-08-18T12:59:36.062Z\",\"google\":false,\"isp\":\"CBNNAP\",\"lastChecked\":1629291576,\"latency\":202,\"org\":\"\",\"port\":\"5678\",\"protocols\":[\"socks4\"],\"region\":null,\"responseTime\":33,\"speed\":5001,\"updated_at\":\"2021-08-18T12:59:36.062Z\",\"workingPercent\":null},{\"_id\":\"611d0437ca7e41590532b58c\",\"ip\":\"46.238.48.82\",\"anonymityLevel\":\"transparent\",\"asn\":\"AS35141\",\"city\":\"Sofia\",\"country\":\"BG\",\"created_at\":\"2021-08-18T12:59:35.119Z\",\"google\":false,\"isp\":\"Megalan Network Ltd\",\"lastChecked\":1629291575,\"latency\":209,\"org\":\"Megalan Network Ltd.\",\"port\":\"8080\",\"protocols\":[\"http\"],\"region\":null,\"responseTime\":33,\"speed\":null,\"updated_at\":\"2021-08-18T12:59:35.119Z\",\"workingPercent\":null},{\"_id\":\"611d0436ca7e41590532b566\",\"ip\":\"109.254.92.67\",\"anonymityLevel\":\"elite\",\"asn\":\"AS20590\",\"city\":\"Donetsk\",\"country\":\"UA\",\"created_at\":\"2021-08-18T12:59:34.224Z\",\"google\":false,\"isp\":\"Donbass Electronic Communications Ltd.\",\"lastChecked\":1629291574,\"latency\":211,\"org\":\"Donbass Electronic Communications Ltd\",\"port\":\"9090\",\"protocols\":[\"http\"],\"region\":null,\"responseTime\":34,\"speed\":null,\"updated_at\":\"2021-08-18T12:59:34.224Z\",\"workingPercent\":null},{\"_id\":\"611d0436ca7e41590532b575\",\"ip\":\"117.197.117.68\",\"anonymityLevel\":\"elite\",\"asn\":\"AS9829\",\"city\":\"Himatnagar\",\"country\":\"IN\",\"created_at\":\"2021-08-18T12:59:34.499Z\",\"google\":false,\"isp\":\"Bharat Sanchar Nigam Ltd\",\"lastChecked\":1629291574,\"latency\":284,\"org\":\"BSNL BBoWIFI services\",\"port\":\"5678\",\"protocols\":[\"socks4\"],\"region\":null,\"responseTime\":35,\"speed\":5001,\"updated_at\":\"2021-08-18T12:59:34.499Z\",\"workingPercent\":null},{\"_id\":\"611d0435ca7e41590532b55b\",\"ip\":\"41.242.56.3\",\"anonymityLevel\":\"elite\",\"asn\":\"AS37688\",\"city\":\"Suleja\",\"country\":\"NG\",\"created_at\":\"2021-08-18T12:59:33.916Z\",\"google\":false,\"isp\":\"BCN\",\"lastChecked\":1629291573,\"latency\":335,\"org\":\"\",\"port\":\"5678\",\"protocols\":[\"socks4\"],\"region\":null,\"responseTime\":36,\"speed\":516,\"updated_at\":\"2021-08-18T12:59:33.916Z\",\"workingPercent\":null},{\"_id\":\"611d0435ca7e41590532b54b\",\"ip\":\"51.81.82.175\",\"anonymityLevel\":\"elite\",\"asn\":\"AS16276\",\"city\":\"Newark\",\"country\":\"US\",\"created_at\":\"2021-08-18T12:59:33.278Z\",\"google\":false,\"isp\":\"OVH US LLC\",\"lastChecked\":1629291573,\"latency\":65.6,\"org\":\"OVH (NWK)\",\"port\":\"2003\",\"protocols\":[\"http\"],\"region\":null,\"responseTime\":34,\"speed\":5001,\"updated_at\":\"2021-08-18T12:59:33.278Z\",\"workingPercent\":null},{\"_id\":\"611d0434ca7e41590532b537\",\"ip\":\"190.61.98.242\",\"anonymityLevel\":\"transparent\",\"asn\":\"AS52468\",\"city\":\"Guatemala City\",\"country\":\"GT\",\"created_at\":\"2021-08-18T12:59:32.604Z\",\"google\":false,\"isp\":\"Ufinet Panama S.A.\",\"lastChecked\":1629291572,\"latency\":90.8,\"org\":\"UFINET Guatemala S. A\",\"port\":\"999\",\"protocols\":[\"http\"],\"region\":null,\"responseTime\":33,\"speed\":null,\"updated_at\":\"2021-08-18T12:59:32.604Z\",\"workingPercent\":null},{\"_id\":\"611d0434ca7e41590532b52b\",\"ip\":\"41.79.139.193\",\"anonymityLevel\":\"elite\",\"asn\":\"AS37395\",\"city\":\"Gaborone\",\"country\":\"BW\",\"created_at\":\"2021-08-18T12:59:32.469Z\",\"google\":false,\"isp\":\"Abari Communications\",\"lastChecked\":1629291572,\"latency\":410,\"org\":\"\",\"port\":\"5678\",\"protocols\":[\"socks4\"],\"region\":null,\"responseTime\":33,\"speed\":null,\"updated_at\":\"2021-08-18T12:59:32.469Z\",\"workingPercent\":null},{\"_id\":\"611d0432ca7e41590532b509\",\"ip\":\"43.242.39.183\",\"anonymityLevel\":\"elite\",\"asn\":\"AS45232\",\"city\":\"New Delhi\",\"country\":\"IN\",\"created_at\":\"2021-08-18T12:59:30.762Z\",\"google\":false,\"isp\":\"Spacenet Internet Services Pvtltd\",\"lastChecked\":1629291570,\"latency\":null,\"org\":\"\",\"port\":\"5678\",\"protocols\":[\"socks4\"],\"region\":null,\"responseTime\":44,\"speed\":318,\"updated_at\":\"2021-08-18T12:59:30.762Z\",\"workingPercent\":null},{\"_id\":\"611d0432ca7e41590532b4f3\",\"ip\":\"5.133.31.26\",\"anonymityLevel\":\"transparent\",\"asn\":\"AS57704\",\"city\":\"Gaza\",\"country\":\"PS\",\"created_at\":\"2021-08-18T12:59:30.326Z\",\"google\":false,\"isp\":\"JetNet for Information Technology and Telecommunications Limited Liability Comp\",\"lastChecked\":1629291570,\"latency\":205,\"org\":\"JETNET for Communication and Information Technology Ltd.\",\"port\":\"8080\",\"protocols\":[\"http\"],\"region\":null,\"responseTime\":37,\"speed\":null,\"updated_at\":\"2021-08-18T12:59:30.326Z\",\"workingPercent\":null},{\"_id\":\"611d0432ca7e41590532b4ff\",\"ip\":\"176.105.43.21\",\"anonymityLevel\":\"elite\",\"asn\":\"AS48683\",\"city\":\"Kyiv\",\"country\":\"UA\",\"created_at\":\"2021-08-18T12:59:30.387Z\",\"google\":false,\"isp\":\"Bilink LLC\",\"lastChecked\":1629291570,\"latency\":183,\"org\":\"Bilink\",\"port\":\"5678\",\"protocols\":[\"socks4\"],\"region\":null,\"responseTime\":62,\"speed\":5001,\"updated_at\":\"2021-08-18T12:59:30.387Z\",\"workingPercent\":null},{\"_id\":\"611d0431ca7e41590532b4e7\",\"ip\":\"43.242.39.208\",\"anonymityLevel\":\"elite\",\"asn\":\"AS45232\",\"city\":\"New Delhi\",\"country\":\"IN\",\"created_at\":\"2021-08-18T12:59:29.711Z\",\"google\":false,\"isp\":\"Spacenet Internet Services Pvtltd\",\"lastChecked\":1629291569,\"latency\":349,\"org\":\"\",\"port\":\"5678\",\"protocols\":[\"socks4\"],\"region\":null,\"responseTime\":34,\"speed\":603,\"updated_at\":\"2021-08-18T12:59:29.711Z\",\"workingPercent\":null},{\"_id\":\"611d0430ca7e41590532b4cd\",\"ip\":\"117.2.9.188\",\"anonymityLevel\":\"elite\",\"asn\":\"AS7552\",\"city\":\"Hanoi\",\"country\":\"VN\",\"created_at\":\"2021-08-18T12:59:28.460Z\",\"google\":false,\"isp\":\"Viettel Corporation\",\"lastChecked\":1629291568,\"latency\":165,\"org\":\"\",\"port\":\"5678\",\"protocols\":[\"socks4\"],\"region\":null,\"responseTime\":31,\"speed\":5001,\"updated_at\":\"2021-08-18T12:59:28.460Z\",\"workingPercent\":null},{\"_id\":\"611d042fca7e41590532b4b9\",\"ip\":\"103.88.232.159\",\"anonymityLevel\":\"transparent\",\"asn\":\"AS134382\",\"city\":\"Dhaka\",\"country\":\"BD\",\"created_at\":\"2021-08-18T12:59:27.825Z\",\"google\":false,\"isp\":\"Sajid Trading Limited\",\"lastChecked\":1629291567,\"latency\":301,\"org\":\"Sajid Trading Limited\",\"port\":\"8080\",\"protocols\":[\"http\"],\"region\":null,\"responseTime\":34,\"speed\":null,\"updated_at\":\"2021-08-18T12:59:27.825Z\",\"workingPercent\":null},{\"_id\":\"611d042eca7e41590532b47e\",\"ip\":\"47.100.183.61\",\"anonymityLevel\":\"elite\",\"asn\":\"AS37963\",\"city\":\"Shanghai\",\"country\":\"CN\",\"created_at\":\"2021-08-18T12:59:26.120Z\",\"google\":false,\"isp\":\"Addresses CNNIC\",\"lastChecked\":1629291566,\"latency\":143,\"org\":\"Aliyun Computing Co., LTD\",\"port\":\"1080\",\"protocols\":[\"http\"],\"region\":null,\"responseTime\":29,\"speed\":5000,\"updated_at\":\"2021-08-18T12:59:26.120Z\",\"workingPercent\":null},{\"_id\":\"611d042eca7e41590532b49b\",\"ip\":\"43.243.204.106\",\"anonymityLevel\":\"elite\",\"asn\":\"AS24122\",\"city\":\"Mirpur\",\"country\":\"BD\",\"created_at\":\"2021-08-18T12:59:26.822Z\",\"google\":false,\"isp\":\"BDCOM Online Limited\",\"lastChecked\":1629291566,\"latency\":283,\"org\":\"Bdcom NEW\",\"port\":\"35805\",\"protocols\":[\"socks4\"],\"region\":null,\"responseTime\":28,\"speed\":2067,\"updated_at\":\"2021-08-18T12:59:26.822Z\",\"workingPercent\":null},{\"_id\":\"611d01e3ca7e415905325da5\",\"ip\":\"51.210.150.171\",\"anonymityLevel\":\"transparent\",\"asn\":\"AS16276\",\"city\":\"Gravelines\",\"country\":\"FR\",\"created_at\":\"2021-08-18T12:49:39.110Z\",\"google\":true,\"isp\":\"OVH SAS\",\"lastChecked\":1629291565,\"latency\":197,\"org\":\"OVH\",\"port\":\"3128\",\"protocols\":[\"http\"],\"region\":null,\"responseTime\":28,\"speed\":413,\"updated_at\":\"2021-08-18T12:59:25.188Z\",\"workingPercent\":null},{\"_id\":\"611d042cca7e41590532b454\",\"ip\":\"175.100.76.222\",\"anonymityLevel\":\"elite\",\"asn\":\"AS38623\",\"city\":\"Phnom Penh\",\"country\":\"KH\",\"created_at\":\"2021-08-18T12:59:24.729Z\",\"google\":false,\"isp\":\"VIETTEL (CAMBODIA) PTE., LTD\",\"lastChecked\":1629291564,\"latency\":243,\"org\":\"Viettel (cambodia) Pte., Ltd.\",\"port\":\"5678\",\"protocols\":[\"socks4\"],\"region\":null,\"responseTime\":38,\"speed\":3236,\"updated_at\":\"2021-08-18T12:59:24.729Z\",\"workingPercent\":null},{\"_id\":\"611d042aca7e41590532b3a8\",\"ip\":\"50.7.198.203\",\"anonymityLevel\":\"transparent\",\"asn\":\"AS174\",\"city\":\"London\",\"country\":\"GB\",\"created_at\":\"2021-08-18T12:59:22.252Z\",\"google\":false,\"isp\":\"FDCservers.net\",\"lastChecked\":1629291562,\"latency\":135,\"org\":\"FDCservers.net\",\"port\":\"80\",\"protocols\":[\"http\"],\"region\":null,\"responseTime\":38,\"speed\":2392,\"updated_at\":\"2021-08-18T12:59:22.252Z\",\"workingPercent\":null},{\"_id\":\"611d042aca7e41590532b3b3\",\"ip\":\"43.229.73.238\",\"anonymityLevel\":\"elite\",\"asn\":\"AS45433\",\"city\":\"Mandsaur\",\"country\":\"IN\",\"created_at\":\"2021-08-18T12:59:22.374Z\",\"google\":false,\"isp\":\"Kappa E-Ventures Private Limited\",\"lastChecked\":1629291562,\"latency\":254,\"org\":\"Kappa  Private Limited\",\"port\":\"5678\",\"protocols\":[\"socks4\"],\"region\":null,\"responseTime\":32,\"speed\":5001,\"updated_at\":\"2021-08-18T12:59:22.374Z\",\"workingPercent\":null},{\"_id\":\"611d0429ca7e41590532b386\",\"ip\":\"109.125.139.154\",\"anonymityLevel\":\"elite\",\"asn\":\"AS49100\",\"city\":\"Tehran\",\"country\":\"IR\",\"created_at\":\"2021-08-18T12:59:21.095Z\",\"google\":false,\"isp\":\"PTS-Network\",\"lastChecked\":1629291561,\"latency\":256,\"org\":\"\",\"port\":\"5678\",\"protocols\":[\"socks4\"],\"region\":null,\"responseTime\":46,\"speed\":512,\"updated_at\":\"2021-08-18T12:59:21.095Z\",\"workingPercent\":null},{\"_id\":\"611d0429ca7e41590532b392\",\"ip\":\"117.196.238.73\",\"anonymityLevel\":\"elite\",\"asn\":\"AS9829\",\"city\":\"Jaipur\",\"country\":\"IN\",\"created_at\":\"2021-08-18T12:59:21.207Z\",\"google\":false,\"isp\":\"Bharat Sanchar Nigam Ltd\",\"lastChecked\":1629291561,\"latency\":294,\"org\":\"BSNL BBoWIFI services\",\"port\":\"5678\",\"protocols\":[\"socks4\"],\"region\":null,\"responseTime\":29,\"speed\":null,\"updated_at\":\"2021-08-18T12:59:21.207Z\",\"workingPercent\":null},{\"_id\":\"611d0428ca7e41590532b362\",\"ip\":\"165.22.108.115\",\"anonymityLevel\":\"elite\",\"asn\":\"AS14061\",\"city\":\"Singapore\",\"country\":\"SG\",\"created_at\":\"2021-08-18T12:59:20.591Z\",\"google\":false,\"isp\":\"DigitalOcean, LLC\",\"lastChecked\":1629291560,\"latency\":170,\"org\":\"DigitalOcean, LLC\",\"port\":\"8080\",\"protocols\":[\"http\"],\"region\":null,\"responseTime\":32,\"speed\":932,\"updated_at\":\"2021-08-18T12:59:20.591Z\",\"workingPercent\":null},{\"_id\":\"611d0428ca7e41590532b36e\",\"ip\":\"175.158.59.154\",\"anonymityLevel\":\"elite\",\"asn\":\"AS135478\",\"city\":\"Jakarta\",\"country\":\"ID\",\"created_at\":\"2021-08-18T12:59:20.666Z\",\"google\":false,\"isp\":\"CBNNAP\",\"lastChecked\":1629291560,\"latency\":204,\"org\":\"\",\"port\":\"5678\",\"protocols\":[\"socks4\"],\"region\":null,\"responseTime\":32,\"speed\":5001,\"updated_at\":\"2021-08-18T12:59:20.666Z\",\"workingPercent\":null},{\"_id\":\"611d0427ca7e41590532b352\",\"ip\":\"117.197.118.42\",\"anonymityLevel\":\"elite\",\"asn\":\"AS9829\",\"city\":\"Himatnagar\",\"country\":\"IN\",\"created_at\":\"2021-08-18T12:59:19.971Z\",\"google\":false,\"isp\":\"Bharat Sanchar Nigam Ltd\",\"lastChecked\":1629291559,\"latency\":314,\"org\":\"BSNL BBoWIFI services\",\"port\":\"5678\",\"protocols\":[\"socks4\"],\"region\":null,\"responseTime\":35,\"speed\":5001,\"updated_at\":\"2021-08-18T12:59:19.971Z\",\"workingPercent\":null},{\"_id\":\"611d0427ca7e41590532b342\",\"ip\":\"5.141.81.106\",\"anonymityLevel\":\"elite\",\"asn\":\"AS12389\",\"city\":\"Perm\",\"country\":\"RU\",\"created_at\":\"2021-08-18T12:59:19.700Z\",\"google\":false,\"isp\":\"Rostelecom networks\",\"lastChecked\":1629291559,\"latency\":195,\"org\":\"Dynamic distribution IPs for broadband services\",\"port\":\"44271\",\"protocols\":[\"socks4\"],\"region\":null,\"responseTime\":30,\"speed\":403,\"updated_at\":\"2021-08-18T12:59:19.700Z\",\"workingPercent\":null},{\"_id\":\"611d0426ca7e41590532b2dd\",\"ip\":\"167.71.172.18\",\"anonymityLevel\":\"elite\",\"asn\":\"AS14061\",\"city\":\"Clifton\",\"country\":\"US\",\"created_at\":\"2021-08-18T12:59:18.495Z\",\"google\":false,\"isp\":\"DigitalOcean, LLC\",\"lastChecked\":1629291558,\"latency\":76.4,\"org\":\"DigitalOcean, LLC\",\"port\":\"8128\",\"protocols\":[\"http\"],\"region\":null,\"responseTime\":35,\"speed\":null,\"updated_at\":\"2021-08-18T12:59:18.495Z\",\"workingPercent\":null},{\"_id\":\"611d0426ca7e41590532b2e8\",\"ip\":\"51.13.86.203\",\"anonymityLevel\":\"elite\",\"asn\":\"AS8075\",\"city\":\"Rasta\",\"country\":\"NO\",\"created_at\":\"2021-08-18T12:59:18.610Z\",\"google\":false,\"isp\":\"Microsoft Corporation\",\"lastChecked\":1629291558,\"latency\":null,\"org\":\"Microsoft Azure Cloud (norwaye)\",\"port\":\"5678\",\"protocols\":[\"socks4\"],\"region\":null,\"responseTime\":28,\"speed\":1071,\"updated_at\":\"2021-08-18T12:59:18.610Z\",\"workingPercent\":null},{\"_id\":\"611d0426ca7e41590532b2cb\",\"ip\":\"47.52.159.153\",\"anonymityLevel\":\"elite\",\"asn\":\"AS45102\",\"city\":\"Central\",\"country\":\"HK\",\"created_at\":\"2021-08-18T12:59:18.102Z\",\"google\":false,\"isp\":\"Alibaba.com LLC\",\"lastChecked\":1629291558,\"latency\":null,\"org\":\"ALICLOUD-HK\",\"port\":\"8080\",\"protocols\":[\"http\"],\"region\":null,\"responseTime\":30,\"speed\":787,\"updated_at\":\"2021-08-18T12:59:18.102Z\",\"workingPercent\":null},{\"_id\":\"611d0425ca7e41590532b2b4\",\"ip\":\"191.241.134.61\",\"anonymityLevel\":\"transparent\",\"asn\":\"AS263671\",\"city\":\"Carira\",\"country\":\"BR\",\"created_at\":\"2021-08-18T12:59:17.633Z\",\"google\":false,\"isp\":\"Minas Info Ltda-me\",\"lastChecked\":1629291557,\"latency\":218,\"org\":\"Minas Info Ltda-me\",\"port\":\"45005\",\"protocols\":[\"http\"],\"region\":null,\"responseTime\":33,\"speed\":null,\"updated_at\":\"2021-08-18T12:59:17.633Z\",\"workingPercent\":null},{\"_id\":\"611d0424ca7e41590532b29b\",\"ip\":\"41.60.233.127\",\"anonymityLevel\":\"elite\",\"asn\":\"AS30844\",\"city\":\"Nairobi\",\"country\":\"KE\",\"created_at\":\"2021-08-18T12:59:16.762Z\",\"google\":false,\"isp\":\"Maintainer Liquid Telecommunications Operations Limited\",\"lastChecked\":1629291556,\"latency\":null,\"org\":\"Liquid Telecommunications Operations Limited\",\"port\":\"5678\",\"protocols\":[\"socks4\"],\"region\":null,\"responseTime\":37,\"speed\":5001,\"updated_at\":\"2021-08-18T12:59:16.762Z\",\"workingPercent\":null},{\"_id\":\"611d0423ca7e41590532b277\",\"ip\":\"222.74.202.243\",\"anonymityLevel\":\"transparent\",\"asn\":\"AS4134\",\"city\":\"Hohhot\",\"country\":\"CN\",\"created_at\":\"2021-08-18T12:59:15.107Z\",\"google\":false,\"isp\":\"Chinanet\",\"lastChecked\":1629291555,\"latency\":179,\"org\":\"Chinanet NM\",\"port\":\"8080\",\"protocols\":[\"http\"],\"region\":null,\"responseTime\":40,\"speed\":5000,\"updated_at\":\"2021-08-18T12:59:15.107Z\",\"workingPercent\":null},{\"_id\":\"611d0422ca7e41590532b26c\",\"ip\":\"175.29.174.44\",\"anonymityLevel\":\"elite\",\"asn\":\"AS17469\",\"city\":\"Dhaka\",\"country\":\"BD\",\"created_at\":\"2021-08-18T12:59:14.950Z\",\"google\":false,\"isp\":\"Access Telecom (BD) Ltd\",\"lastChecked\":1629291554,\"latency\":274,\"org\":\"Access Telecom (BD) Ltd\",\"port\":\"5678\",\"protocols\":[\"socks4\"],\"region\":null,\"responseTime\":34,\"speed\":5001,\"updated_at\":\"2021-08-18T12:59:14.950Z\",\"workingPercent\":null},{\"_id\":\"611d0422ca7e41590532b24f\",\"ip\":\"103.119.66.231\",\"anonymityLevel\":\"elite\",\"asn\":\"AS63859\",\"city\":\"Jakarta\",\"country\":\"ID\",\"created_at\":\"2021-08-18T12:59:13.996Z\",\"google\":false,\"isp\":\"MYREPUBLIC\",\"lastChecked\":1629291553,\"latency\":208,\"org\":\"\",\"port\":\"5678\",\"protocols\":[\"socks4\"],\"region\":null,\"responseTime\":52,\"speed\":799,\"updated_at\":\"2021-08-18T12:59:13.996Z\",\"workingPercent\":null},{\"_id\":\"611d0420ca7e41590532b230\",\"ip\":\"103.120.38.180\",\"anonymityLevel\":\"elite\",\"asn\":\"AS138024\",\"city\":\"Dhaka\",\"country\":\"BD\",\"created_at\":\"2021-08-18T12:59:12.486Z\",\"google\":false,\"isp\":\"Md. Yusuf Ahmed\",\"lastChecked\":1629291552,\"latency\":null,\"org\":\"\",\"port\":\"5678\",\"protocols\":[\"socks4\"],\"region\":null,\"responseTime\":35,\"speed\":null,\"updated_at\":\"2021-08-18T12:59:12.486Z\",\"workingPercent\":null}],\"total\":6349,\"page\":\"1\",\"limit\":\"50\"}'"
      ]
     },
     "execution_count": 42,
     "metadata": {},
     "output_type": "execute_result"
    }
   ],
   "source": [
    "r = requests.get('https://proxylist.geonode.com/api/proxy-list?limit=50&page=1&sort_by=lastChecked&sort_type=desc')"
   ]
  },
  {
   "cell_type": "code",
   "execution_count": 43,
   "metadata": {},
   "outputs": [
    {
     "data": {
      "text/plain": [
       "['109.236.47.37:5678',\n",
       " '182.253.108.162:5678',\n",
       " '116.90.234.238:5678',\n",
       " '117.2.161.85:5678',\n",
       " '175.139.216.25:5678',\n",
       " '105.234.148.5:5678',\n",
       " '106.58.218.185:5678',\n",
       " '190.90.18.162:999',\n",
       " '117.222.59.178:5678',\n",
       " '5.188.154.149:8080',\n",
       " '175.100.5.156:5678',\n",
       " '109.200.155.194:8080',\n",
       " '109.167.4.59:5678',\n",
       " '175.144.198.226:31694',\n",
       " '117.202.20.67:1088',\n",
       " '175.158.57.96:5678',\n",
       " '46.238.48.82:8080',\n",
       " '109.254.92.67:9090',\n",
       " '117.197.117.68:5678',\n",
       " '41.242.56.3:5678',\n",
       " '51.81.82.175:2003',\n",
       " '190.61.98.242:999',\n",
       " '41.79.139.193:5678',\n",
       " '43.242.39.183:5678',\n",
       " '5.133.31.26:8080',\n",
       " '176.105.43.21:5678',\n",
       " '43.242.39.208:5678',\n",
       " '117.2.9.188:5678',\n",
       " '103.88.232.159:8080',\n",
       " '47.100.183.61:1080',\n",
       " '43.243.204.106:35805',\n",
       " '51.210.150.171:3128',\n",
       " '175.100.76.222:5678',\n",
       " '50.7.198.203:80',\n",
       " '43.229.73.238:5678',\n",
       " '109.125.139.154:5678',\n",
       " '117.196.238.73:5678',\n",
       " '165.22.108.115:8080',\n",
       " '175.158.59.154:5678',\n",
       " '117.197.118.42:5678',\n",
       " '5.141.81.106:44271',\n",
       " '167.71.172.18:8128',\n",
       " '51.13.86.203:5678',\n",
       " '47.52.159.153:8080',\n",
       " '191.241.134.61:45005',\n",
       " '41.60.233.127:5678',\n",
       " '222.74.202.243:8080',\n",
       " '175.29.174.44:5678',\n",
       " '103.119.66.231:5678',\n",
       " '103.120.38.180:5678']"
      ]
     },
     "execution_count": 43,
     "metadata": {},
     "output_type": "execute_result"
    }
   ],
   "source": [
    "m = r.json()['data']\n",
    "ips = [i['ip']+':'+i['port'] for i in m]\n",
    "ips"
   ]
  },
  {
   "cell_type": "code",
   "execution_count": 44,
   "metadata": {
    "scrolled": false
   },
   "outputs": [
    {
     "name": "stdout",
     "output_type": "stream",
     "text": [
      "FAIL 109.236.47.37:5678\n",
      "FAIL 182.253.108.162:5678\n",
      "FAIL 116.90.234.238:5678\n",
      "FAIL 117.2.161.85:5678\n",
      "FAIL 175.139.216.25:5678\n",
      "FAIL 105.234.148.5:5678\n",
      "FAIL 106.58.218.185:5678\n",
      "FAIL 190.90.18.162:999\n",
      "FAIL 117.222.59.178:5678\n",
      "FAIL 5.188.154.149:8080\n",
      "FAIL 175.100.5.156:5678\n",
      "FAIL 109.200.155.194:8080\n",
      "FAIL 109.167.4.59:5678\n",
      "FAIL 175.144.198.226:31694\n",
      "FAIL 117.202.20.67:1088\n",
      "FAIL 175.158.57.96:5678\n",
      "FAIL 46.238.48.82:8080\n",
      "FAIL 109.254.92.67:9090\n",
      "FAIL 117.197.117.68:5678\n",
      "FAIL 41.242.56.3:5678\n",
      "FAIL 51.81.82.175:2003\n",
      "FAIL 190.61.98.242:999\n",
      "FAIL 41.79.139.193:5678\n",
      "FAIL 43.242.39.183:5678\n",
      "FAIL 5.133.31.26:8080\n",
      "FAIL 176.105.43.21:5678\n",
      "FAIL 43.242.39.208:5678\n",
      "FAIL 117.2.9.188:5678\n",
      "{'ip': '103.167.15.158'}\n",
      "FAIL 47.100.183.61:1080\n",
      "FAIL 43.243.204.106:35805\n",
      "FAIL 51.210.150.171:3128\n",
      "FAIL 175.100.76.222:5678\n",
      "FAIL 50.7.198.203:80\n",
      "FAIL 43.229.73.238:5678\n",
      "FAIL 109.125.139.154:5678\n",
      "FAIL 117.196.238.73:5678\n",
      "FAIL 165.22.108.115:8080\n",
      "FAIL 175.158.59.154:5678\n",
      "FAIL 117.197.118.42:5678\n",
      "FAIL 5.141.81.106:44271\n",
      "FAIL 167.71.172.18:8128\n",
      "FAIL 51.13.86.203:5678\n",
      "FAIL 47.52.159.153:8080\n",
      "FAIL 191.241.134.61:45005\n",
      "FAIL 41.60.233.127:5678\n",
      "FAIL 222.74.202.243:8080\n",
      "FAIL 175.29.174.44:5678\n",
      "FAIL 103.119.66.231:5678\n",
      "FAIL 103.120.38.180:5678\n"
     ]
    }
   ],
   "source": [
    "validips = []\n",
    "for ip in ips:\n",
    "    try:\n",
    "        res = requests.get('https://api.ipify.org?format=json', proxies = {'http':ip, 'https':ip}, timeout = 5)\n",
    "        validips.append({'ip':ip})\n",
    "        print(res.json())\n",
    "    except:\n",
    "        print('FAIL', ip)\n",
    "        \n",
    "        \n",
    "        "
   ]
  },
  {
   "cell_type": "code",
   "execution_count": 45,
   "metadata": {},
   "outputs": [
    {
     "data": {
      "text/plain": [
       "[{'ip': '103.88.232.159:8080'}]"
      ]
     },
     "execution_count": 45,
     "metadata": {},
     "output_type": "execute_result"
    }
   ],
   "source": [
    "validips"
   ]
  },
  {
   "cell_type": "code",
   "execution_count": null,
   "metadata": {},
   "outputs": [],
   "source": [
    "r = requests.get('https://proxylist.geonode.com/api/proxy-list?limit=50&page=1&sort_by=lastChecked&sort_type=desc')\n",
    "m = r.json()['data']\n",
    "ips = [i['ip']+':'+i['port'] for i in m]\n",
    "validips = []\n",
    "for ip in ips:\n",
    "    try:\n",
    "        res = requests.get('https://api.ipify.org?format=json', proxies = {'http':ip, 'https':ip}, timeout = 5)\n",
    "        validips.append({'ip':ip})\n",
    "        print(res.json())\n",
    "    except:\n",
    "        print('FAIL', ip)"
   ]
  },
  {
   "cell_type": "code",
   "execution_count": 47,
   "metadata": {},
   "outputs": [
    {
     "name": "stdout",
     "output_type": "stream",
     "text": [
      "FAIL 81.12.97.112:5678\n",
      "FAIL 5.178.217.227:31019\n",
      "FAIL 58.147.171.187:5678\n",
      "FAIL 60.217.64.237:35292\n",
      "FAIL 186.225.120.253:5678\n",
      "FAIL 197.156.240.66:5678\n",
      "FAIL 81.198.218.209:4145\n",
      "FAIL 81.18.90.43:4153\n",
      "FAIL 196.221.150.29:5678\n",
      "FAIL 197.157.230.115:5678\n",
      "FAIL 196.216.49.254:5678\n",
      "FAIL 51.254.162.207:5678\n",
      "FAIL 186.219.3.65:4145\n",
      "FAIL 8.210.43.58:5678\n",
      "FAIL 81.12.94.156:5678\n",
      "FAIL 186.211.100.81:5678\n",
      "FAIL 186.206.225.183:5678\n",
      "FAIL 182.253.141.14:5678\n",
      "FAIL 186.189.208.202:5678\n",
      "FAIL 186.47.82.78:5678\n",
      "FAIL 178.210.132.240:5678\n",
      "FAIL 178.72.162.243:5678\n",
      "FAIL 182.253.159.59:4145\n",
      "FAIL 58.187.147.204:5678\n",
      "FAIL 178.76.254.130:4145\n",
      "FAIL 182.253.178.118:5678\n",
      "FAIL 37.98.231.12:1080\n",
      "FAIL 60.22.22.15:1080\n",
      "FAIL 37.26.136.175:3629\n",
      "FAIL 179.83.58.154:5678\n",
      "FAIL 182.253.141.32:4145\n",
      "FAIL 182.23.91.132:5678\n",
      "FAIL 180.183.126.152:5678\n",
      "FAIL 5.234.162.182:5678\n",
      "FAIL 37.157.217.8:5678\n",
      "FAIL 41.139.177.133:5678\n",
      "FAIL 182.253.185.198:5678\n",
      "FAIL 223.25.98.118:5678\n",
      "FAIL 31.209.135.82:5678\n",
      "FAIL 182.253.173.210:5678\n",
      "FAIL 27.147.221.11:5678\n",
      "FAIL 178.72.90.70:5678\n",
      "FAIL 179.158.34.108:5678\n",
      "FAIL 41.162.54.131:5678\n",
      "FAIL 182.253.161.188:5678\n",
      "FAIL 223.240.127.165:5678\n",
      "FAIL 175.143.62.76:5678\n",
      "FAIL 175.103.38.3:5678\n",
      "FAIL 175.184.232.75:5678\n",
      "FAIL 27.123.5.26:5678\n"
     ]
    }
   ],
   "source": [
    "r = requests.get('https://proxylist.geonode.com/api/proxy-list?limit=50&page=1&sort_by=lastChecked&sort_type=desc')\n",
    "m = r.json()['data']\n",
    "ips = [i['ip']+':'+i['port'] for i in m]\n",
    "validips = []\n",
    "for ip in ips:\n",
    "    try:\n",
    "        res = requests.get('https://www.dcard.tw/service/api/v2/forums/stock/posts?limit=100', proxies = {'http':ip, 'https':ip}, timeout = 5)\n",
    "        validips.append({'ip':ip})\n",
    "        print(res.json())\n",
    "    except:\n",
    "        print('FAIL', ip)"
   ]
  },
  {
   "cell_type": "code",
   "execution_count": null,
   "metadata": {},
   "outputs": [],
   "source": []
  }
 ],
 "metadata": {
  "kernelspec": {
   "display_name": "Python 3",
   "language": "python",
   "name": "python3"
  },
  "language_info": {
   "codemirror_mode": {
    "name": "ipython",
    "version": 3
   },
   "file_extension": ".py",
   "mimetype": "text/x-python",
   "name": "python",
   "nbconvert_exporter": "python",
   "pygments_lexer": "ipython3",
   "version": "3.8.5"
  }
 },
 "nbformat": 4,
 "nbformat_minor": 4
}
