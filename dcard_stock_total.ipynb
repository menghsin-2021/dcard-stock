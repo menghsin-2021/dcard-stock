{
 "cells": [
  {
   "cell_type": "code",
   "execution_count": 14,
   "metadata": {},
   "outputs": [],
   "source": [
    "import pandas as pd\n",
    "import requests\n",
    "import datetime"
   ]
  },
  {
   "cell_type": "code",
   "execution_count": 27,
   "metadata": {},
   "outputs": [
    {
     "ename": "SystemExit",
     "evalue": "",
     "output_type": "error",
     "traceback": [
      "An exception has occurred, use %tb to see the full traceback.\n",
      "\u001b[1;31mSystemExit\u001b[0m\n"
     ]
    },
    {
     "name": "stderr",
     "output_type": "stream",
     "text": [
      "D:\\Users\\Meng-Hsin\\anaconda3\\lib\\site-packages\\IPython\\core\\interactiveshell.py:3426: UserWarning: To exit: use 'exit', 'quit', or Ctrl-D.\n",
      "  warn(\"To exit: use 'exit', 'quit', or Ctrl-D.\", stacklevel=1)\n"
     ]
    }
   ],
   "source": [
    "# # 建立空 DataFrame\n",
    "# data = pd.DataFrame(columns=['ID', 'title', 'createdAt', 'updatedAt', 'commentCount',\n",
    "#              'forumName', 'forumAlias', 'likeCount', 'reactions', 'topics'])\n",
    "\n",
    "# 股版依時間順序前100則文章url\n",
    "url = 'https://www.dcard.tw/service/api/v2/forums/stock/posts?limit=100'\n",
    "\n",
    "        \n",
    "# 輸入 json 資料中一筆字典並建立 dataFrame\n",
    "def dj_to_df(dj):\n",
    "    df = pd.DataFrame(data= \n",
    "       [{'articleID': dj['id'],                          # 編號\n",
    "        'title': dj['title'],                     # 標題\n",
    "        'createdAt': pd.Timestamp(dj['createdAt'], tz='Asia/Taipei'),   # 發布時間\n",
    "        'updatedAt': pd.Timestamp(dj['updatedAt'], tz='Asia/Taipei'),   # 更新時間\n",
    "        'commentCount': dj['commentCount'],       # 留言數\n",
    "        'forumName': dj['forumName'],             # 論壇分類(中文)\n",
    "        'forumAlias': dj['forumAlias'],           # 論壇分類(英文)\n",
    "        'likeCount': dj['likeCount'],             # 心情數量\n",
    "        'topics': \"/\".join(dj['topics'])}],                 # 標籤\n",
    "    columns=['articleID', 'title', 'createdAt', 'updatedAt', 'commentCount',\n",
    "             'forumName', 'forumAlias', 'likeCount', 'topics'],\n",
    "    index=None)\n",
    "    return df\n",
    "\n",
    "# 透過request套件抓下網址資料\n",
    "def crawl(url):\n",
    "    df = pd.DataFrame(columns=['articleID', 'title', 'createdAt', 'updatedAt', 'commentCount',\n",
    "             'forumName', 'forumAlias', 'likeCount', 'topics'])\n",
    "    r = requests.get(url)\n",
    "    if r.status_code != requests.codes.ok:\n",
    "        raise SystemExit # 結束程式\n",
    "        \n",
    "    for i in range(len(r.json())):\n",
    "        dj = r.json()[i]    \n",
    "        df = df.append(dj_to_df(dj), ignore_index=True)\n",
    "    \n",
    "    return df\n",
    "\n",
    "data = crawl(url)\n",
    "\n",
    "# for i in range(1):\n",
    "#     try:\n",
    "#         last = str(int(data.tail(1).ID)) # 找出爬出資料的最後一筆ID\n",
    "#         after_url = 'https://www.dcard.tw/service/api/v2/forums/stock/posts?limit=100&before=' + last\n",
    "#         data = data.append(crawl(after_url), ignore_index=True)\n",
    "#     except:\n",
    "#         print ('finish')\n",
    "\n",
    "\n",
    "data"
   ]
  },
  {
   "cell_type": "code",
   "execution_count": 41,
   "metadata": {},
   "outputs": [
    {
     "name": "stdout",
     "output_type": "stream",
     "text": [
      "https://www.dcard.tw/service/api/v2/forums/stock/posts?limit=100&before=236646311\n"
     ]
    }
   ],
   "source": [
    "# 將資料存到桌面\n",
    "# df.to_excel('C:/Users/TLYu0419/Desktop/Dcard.xlsx')"
   ]
  },
  {
   "cell_type": "code",
   "execution_count": null,
   "metadata": {},
   "outputs": [],
   "source": []
  }
 ],
 "metadata": {
  "kernelspec": {
   "display_name": "Python 3",
   "language": "python",
   "name": "python3"
  },
  "language_info": {
   "codemirror_mode": {
    "name": "ipython",
    "version": 3
   },
   "file_extension": ".py",
   "mimetype": "text/x-python",
   "name": "python",
   "nbconvert_exporter": "python",
   "pygments_lexer": "ipython3",
   "version": "3.8.5"
  }
 },
 "nbformat": 4,
 "nbformat_minor": 4
}
